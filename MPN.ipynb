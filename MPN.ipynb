{
 "cells": [
  {
   "cell_type": "code",
   "execution_count": 1,
   "metadata": {},
   "outputs": [],
   "source": [
    "import pandas as pd\n",
    "from pandas_profiling import ProfileReport"
   ]
  },
  {
   "cell_type": "code",
   "execution_count": 2,
   "metadata": {},
   "outputs": [],
   "source": [
    "df = pd.read_csv(\"E:\\VISUALISASI\\DATABASE\\CSV\\MPNSPM.csv\", sep = \";\", low_memory =False)"
   ]
  },
  {
   "cell_type": "code",
   "execution_count": 28,
   "metadata": {},
   "outputs": [],
   "source": [
    "klu = ['45102','45301','46593','45104','77100','46900','46901','45101','45201','45103','45202','45302','30912','29200','45405',\n",
    "'46593','45401','47855','33141','46900','47794','45402','45406','28112','46901','49433','93191','27111','30911','45404',\n",
    "'49432','45403','49423','49431','47736','29100','29300','77302','45407','33159']"
   ]
  },
  {
   "cell_type": "code",
   "execution_count": 29,
   "metadata": {},
   "outputs": [],
   "source": [
    "df = df.loc[(df[\"KLU\"]).isin (klu)]\n",
    "df = df.astype({'MPN_NPWP':str,'KLU':int})\n",
    "df = df[['MPN_NPWP','MPN_NAMA WP','MPN_MAP','DATEBAYAR','NOMINAL','KLU','Kategori','AR','SEKSI']]"
   ]
  },
  {
   "cell_type": "code",
   "execution_count": 31,
   "metadata": {
    "scrolled": false
   },
   "outputs": [],
   "source": [
    "df.to_csv(\"E:\\VISUALISASI\\DATABASE\\CSV\\otomotif.csv\")"
   ]
  },
  {
   "cell_type": "code",
   "execution_count": 57,
   "metadata": {},
   "outputs": [],
   "source": [
    "df_ektrak.to_excel(\"D:\\DATA KANTOR\\HASIL JUPYTER NOTEBOOK\\KLUotomotif.xlsx\",index=False)"
   ]
  },
  {
   "cell_type": "code",
   "execution_count": 36,
   "metadata": {},
   "outputs": [],
   "source": [
    "df_ektrak.to_clipboard()"
   ]
  },
  {
   "cell_type": "markdown",
   "metadata": {},
   "source": [
    "# CARI AR WP KE MADYA 2 JAKSEL"
   ]
  },
  {
   "cell_type": "code",
   "execution_count": 3,
   "metadata": {},
   "outputs": [],
   "source": [
    "npwp = ['018129858007000','314795543002000','016742280007000','013658869007000','018130559003000',\n",
    "       '027029354003000','016682510007000','018444497007000','015896046007000','018142430007000',\n",
    "        '017837378007000','025063611008000'\n",
    "]"
   ]
  },
  {
   "cell_type": "code",
   "execution_count": 22,
   "metadata": {},
   "outputs": [
    {
     "data": {
      "text/html": [
       "<div>\n",
       "<style scoped>\n",
       "    .dataframe tbody tr th:only-of-type {\n",
       "        vertical-align: middle;\n",
       "    }\n",
       "\n",
       "    .dataframe tbody tr th {\n",
       "        vertical-align: top;\n",
       "    }\n",
       "\n",
       "    .dataframe thead th {\n",
       "        text-align: right;\n",
       "    }\n",
       "</style>\n",
       "<table border=\"1\" class=\"dataframe\">\n",
       "  <thead>\n",
       "    <tr style=\"text-align: right;\">\n",
       "      <th></th>\n",
       "      <th>MPN_NPWP</th>\n",
       "      <th>MPN_NAMA WP</th>\n",
       "      <th>AR</th>\n",
       "    </tr>\n",
       "  </thead>\n",
       "  <tbody>\n",
       "    <tr>\n",
       "      <th>21</th>\n",
       "      <td>16742280007000</td>\n",
       "      <td>ANEKABANGUN EKA PRATAMA</td>\n",
       "      <td>Donna Novita</td>\n",
       "    </tr>\n",
       "    <tr>\n",
       "      <th>83</th>\n",
       "      <td>18130559003000</td>\n",
       "      <td>ESA ALGISA</td>\n",
       "      <td>Muhammad Sayuti</td>\n",
       "    </tr>\n",
       "    <tr>\n",
       "      <th>118</th>\n",
       "      <td>314795543002000</td>\n",
       "      <td>ALERE HEALTH</td>\n",
       "      <td>Muhammad Sayuti</td>\n",
       "    </tr>\n",
       "    <tr>\n",
       "      <th>133</th>\n",
       "      <td>27029354003000</td>\n",
       "      <td>HIGH VOLT TECHNOLOGY</td>\n",
       "      <td>HIDA NAHLIATI</td>\n",
       "    </tr>\n",
       "    <tr>\n",
       "      <th>279</th>\n",
       "      <td>18129858007000</td>\n",
       "      <td>AIRKON PRATAMA</td>\n",
       "      <td>I Nyoman Sukerta</td>\n",
       "    </tr>\n",
       "    <tr>\n",
       "      <th>315</th>\n",
       "      <td>16682510007000</td>\n",
       "      <td>LINTAS BUANA TAKSI</td>\n",
       "      <td>Heni Wuryaningsih</td>\n",
       "    </tr>\n",
       "    <tr>\n",
       "      <th>316</th>\n",
       "      <td>18444497007000</td>\n",
       "      <td>LUHUR SATRIA SEJATI KENCANA</td>\n",
       "      <td>Heni Wuryaningsih</td>\n",
       "    </tr>\n",
       "    <tr>\n",
       "      <th>339</th>\n",
       "      <td>25063611008000</td>\n",
       "      <td>SARANA KARYA MANDIRIJAYA</td>\n",
       "      <td>Muhammad Sayuti</td>\n",
       "    </tr>\n",
       "    <tr>\n",
       "      <th>985</th>\n",
       "      <td>15896046007000</td>\n",
       "      <td>OKAMOTO LOGISTICS NUSANTARA</td>\n",
       "      <td>Heni Wuryaningsih</td>\n",
       "    </tr>\n",
       "    <tr>\n",
       "      <th>1030</th>\n",
       "      <td>18142430007000</td>\n",
       "      <td>PANCAR MUTIARA JAYA</td>\n",
       "      <td>Pandan Candrawan</td>\n",
       "    </tr>\n",
       "    <tr>\n",
       "      <th>2598</th>\n",
       "      <td>13658869007000</td>\n",
       "      <td>BINATAMA AKRINDO</td>\n",
       "      <td>Nur Irvan</td>\n",
       "    </tr>\n",
       "    <tr>\n",
       "      <th>4445</th>\n",
       "      <td>17837378007000</td>\n",
       "      <td>PILAR GARBA INTI</td>\n",
       "      <td>Pandan Candrawan</td>\n",
       "    </tr>\n",
       "  </tbody>\n",
       "</table>\n",
       "</div>"
      ],
      "text/plain": [
       "             MPN_NPWP                  MPN_NAMA WP                 AR\n",
       "21     16742280007000      ANEKABANGUN EKA PRATAMA       Donna Novita\n",
       "83     18130559003000                   ESA ALGISA    Muhammad Sayuti\n",
       "118   314795543002000                 ALERE HEALTH    Muhammad Sayuti\n",
       "133    27029354003000         HIGH VOLT TECHNOLOGY      HIDA NAHLIATI\n",
       "279    18129858007000               AIRKON PRATAMA   I Nyoman Sukerta\n",
       "315    16682510007000           LINTAS BUANA TAKSI  Heni Wuryaningsih\n",
       "316    18444497007000  LUHUR SATRIA SEJATI KENCANA  Heni Wuryaningsih\n",
       "339    25063611008000     SARANA KARYA MANDIRIJAYA    Muhammad Sayuti\n",
       "985    15896046007000  OKAMOTO LOGISTICS NUSANTARA  Heni Wuryaningsih\n",
       "1030   18142430007000          PANCAR MUTIARA JAYA   Pandan Candrawan\n",
       "2598   13658869007000             BINATAMA AKRINDO          Nur Irvan\n",
       "4445   17837378007000             PILAR GARBA INTI   Pandan Candrawan"
      ]
     },
     "execution_count": 22,
     "metadata": {},
     "output_type": "execute_result"
    }
   ],
   "source": [
    "MD2['MPN_NPWP'] = MD2['MPN_NPWP'].astype(str)\n",
    "MD2 = df.loc[(df['MPN_NPWP'].isin (npwp))]\n",
    "MD2 = MD2[['MPN_NPWP','MPN_NAMA WP','AR']]\n",
    "\n",
    "MD2['MPN_NAMA WP'] = MD2['MPN_NAMA WP'].str.replace('PT','')\n",
    "MD2['MPN_NAMA WP'] = MD2['MPN_NAMA WP'].str.replace('.','')\n",
    "MD2['MPN_NAMA WP'] = MD2['MPN_NAMA WP'].str.replace(',','')\n",
    "MD2['MPN_NAMA WP'] = MD2['MPN_NAMA WP'].str.strip()\n",
    "MD2 = MD2.drop_duplicates(subset=['MPN_NAMA WP'])\n",
    "MD2"
   ]
  },
  {
   "cell_type": "code",
   "execution_count": 18,
   "metadata": {},
   "outputs": [],
   "source": [
    "MD2.to_excel('E:/NADINE/JAWABAN PERMINTAAN DARI LUAR/ar.xlsx',index=False)"
   ]
  },
  {
   "cell_type": "code",
   "execution_count": null,
   "metadata": {},
   "outputs": [],
   "source": []
  }
 ],
 "metadata": {
  "kernelspec": {
   "display_name": "Python 3",
   "language": "python",
   "name": "python3"
  },
  "language_info": {
   "codemirror_mode": {
    "name": "ipython",
    "version": 3
   },
   "file_extension": ".py",
   "mimetype": "text/x-python",
   "name": "python",
   "nbconvert_exporter": "python",
   "pygments_lexer": "ipython3",
   "version": "3.8.5"
  }
 },
 "nbformat": 4,
 "nbformat_minor": 4
}
